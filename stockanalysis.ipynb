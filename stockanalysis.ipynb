{
 "cells": [
  {
   "cell_type": "code",
   "execution_count": 1,
   "id": "d9bc4a7d-ecc8-47b0-a4c0-2d06f2d8d19f",
   "metadata": {},
   "outputs": [
    {
     "name": "stdout",
     "output_type": "stream",
     "text": [
      "Downloading from https://www.kaggle.com/api/v1/datasets/download/jacksoncrow/stock-market-dataset?dataset_version_number=2...\n"
     ]
    },
    {
     "name": "stderr",
     "output_type": "stream",
     "text": [
      "100%|██████████| 522M/522M [02:33<00:00, 3.56MB/s] "
     ]
    },
    {
     "name": "stdout",
     "output_type": "stream",
     "text": [
      "Extracting files...\n"
     ]
    },
    {
     "name": "stderr",
     "output_type": "stream",
     "text": [
      "\n"
     ]
    },
    {
     "name": "stdout",
     "output_type": "stream",
     "text": [
      "Path to dataset files: /home/hero/.cache/kagglehub/datasets/jacksoncrow/stock-market-dataset/versions/2\n"
     ]
    }
   ],
   "source": [
    "import kagglehub\n",
    "\n",
    "# Download latest version\n",
    "path = kagglehub.dataset_download(\"jacksoncrow/stock-market-dataset\")\n",
    "\n",
    "print(\"Path to dataset files:\", path)"
   ]
  },
  {
   "cell_type": "code",
   "execution_count": null,
   "id": "be30c80d-5366-4961-8574-c73588ac2bfc",
   "metadata": {},
   "outputs": [],
   "source": [
    "location_summary = train_df.groupby('Location').agg(\n",
    "    Avg_MinTemp=('MinTemp', 'mean'),\n",
    "    Avg_MaxTemp=('MaxTemp', 'mean'),\n",
    "    Avg_Rainfall=('Rainfall', 'mean'),\n",
    "    Rainy_Days_Perc=('RainTomorrow', lambda x: x.mean() * 100)\n",
    ").reset_index()\n",
    "rain_tomorrow_dist = train_df['RainTomorrow'].value_counts(normalize=True).reset_index()\n",
    "rain_tomorrow_dist.columns = ['RainTomorrow', 'Percentage']\n",
    "rain_tomorrow_dist['Count'] = train_df['RainTomorrow'].value_counts().values\n",
    "def bucket_rainfall(rain):\n",
    "    if rain == 0:\n",
    "        return '0 mm'\n",
    "    elif 0 < rain <= 5:\n",
    "        return '0.1 - 5 mm'\n",
    "    else:\n",
    "        return '> 5 mm'\n",
    "\n",
    "train_df['Rainfall_Bucket'] = train_df['Rainfall'].apply(bucket_rainfall)\n",
    "rain_sunshine_summary = train_df.groupby('Rainfall_Bucket').agg(\n",
    "    Avg_Sunshine=('Sunshine', 'mean'),\n",
    "    Count=('Sunshine', 'count')\n",
    ").reset_index()\n",
    "wind_impact = train_df.groupby('WindGustDir').agg(\n",
    "    Avg_Gust_Speed=('WindGustSpeed', 'mean'),\n",
    "    RainTomorrow_Yes_Perc=('RainTomorrow', lambda x: x.mean() * 100)\n",
    ").reset_index()\n",
    "missing_summary = pd.DataFrame({\n",
    "    'Column': train_df.columns,\n",
    "    'Missing_Percent_Train': train_df.isnull().mean().values * 100,\n",
    "    'Missing_Percent_Test': test_df.isnull().mean().reindex(train_df.columns).values * 100\n",
    "})\n"
   ]
  }
 ],
 "metadata": {
  "kernelspec": {
   "display_name": "Python 3 (ipykernel)",
   "language": "python",
   "name": "python3"
  },
  "language_info": {
   "codemirror_mode": {
    "name": "ipython",
    "version": 3
   },
   "file_extension": ".py",
   "mimetype": "text/x-python",
   "name": "python",
   "nbconvert_exporter": "python",
   "pygments_lexer": "ipython3",
   "version": "3.12.5"
  }
 },
 "nbformat": 4,
 "nbformat_minor": 5
}
